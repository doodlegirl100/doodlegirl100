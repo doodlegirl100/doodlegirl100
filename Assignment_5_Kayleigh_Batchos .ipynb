{
 "cells": [
  {
   "cell_type": "markdown",
   "metadata": {},
   "source": [
    "# Assignment 5\n",
    "- The code part of this assignment should be submitted as a Jupyter notebook\n",
    "- Your notebook file name should follow this format: Assignment_5_FirstName_LastName.ipynb\n",
    "- The drawing part of this assignment should be submitted as a PDF document\n",
    "- Your PDF file name should follow this format: Assignment_5__Drawings_FirstName_LastName.pdf\n",
    "- For each of the questions below, write your code in a Jupyter notebook cell below the question\n",
    "- Your code should run and generate expected outcome to receive full grade\n",
    "- Save your jupyter notebook with your code included and upload to blackboard by the due date/time\n",
    "- Late submissions are not accepted\n",
    "- You can submit to blackboard multiple times, only the last submission will be graded"
   ]
  },
  {
   "cell_type": "markdown",
   "metadata": {},
   "source": [
    "## Vacation Trips Management Application V1.0\n",
    "Create a Python application that uses object-oriented principles to help Sunrise Vacations Inc., a company that helps customers plan vacation trips, track all trips for which it is providing planning services. \n",
    "Each vacation trip has a customer budget that describes the maximum amount of money the customer is willing to spend. Each vacation trip must also track customer name, customer email and customer phone number. Your application should have the capability to provide a summary of each vacation entered including customer name, email, phone and budget.\n"
   ]
  },
  {
   "cell_type": "markdown",
   "metadata": {},
   "source": [
    "## Question 1\n",
    "Start by creating a Vacation Class"
   ]
  },
  {
   "cell_type": "code",
   "execution_count": null,
   "metadata": {},
   "outputs": [],
   "source": [
    "#Defining Vacation Class\n",
    "class Vacation:\n",
    "    #Defining initalization method\n",
    "    def __init__(self, name, email, number, budget):\n",
    "        self.name = name\n",
    "        self.email = email\n",
    "        self.number = number\n",
    "        self.budget = budget"
   ]
  },
  {
   "cell_type": "markdown",
   "metadata": {},
   "source": [
    "## Question 2\n",
    "Prompt application user to provide information for up to 5 vacations. Use the Vacation class created earlier to instantiate an object for each of the vacations entered by the user."
   ]
  },
  {
   "cell_type": "code",
   "execution_count": 7,
   "metadata": {},
   "outputs": [
    {
     "name": "stdout",
     "output_type": "stream",
     "text": [
      "Enter in information for five vacations\n",
      "Enter information for vacation #1:\n",
      "Enter name:\n",
      "kayleigh\n",
      "Enter email:\n",
      "batchos\n",
      "Enter phone number:\n",
      "4\n",
      "Enter budget:\n",
      "200\n"
     ]
    },
    {
     "ename": "NameError",
     "evalue": "name 'Vacations' is not defined",
     "output_type": "error",
     "traceback": [
      "\u001b[1;31m---------------------------------------------------------------------------\u001b[0m",
      "\u001b[1;31mNameError\u001b[0m                                 Traceback (most recent call last)",
      "Input \u001b[1;32mIn [7]\u001b[0m, in \u001b[0;36m<cell line: 5>\u001b[1;34m()\u001b[0m\n\u001b[0;32m     14\u001b[0m budget \u001b[38;5;241m=\u001b[39m \u001b[38;5;28mint\u001b[39m(\u001b[38;5;28minput\u001b[39m())\n\u001b[0;32m     16\u001b[0m \u001b[38;5;66;03m#Adding vacations to a list\u001b[39;00m\n\u001b[1;32m---> 17\u001b[0m vacation\u001b[38;5;241m.\u001b[39mappend(\u001b[43mVacations\u001b[49m(name, email, number, budget))\n",
      "\u001b[1;31mNameError\u001b[0m: name 'Vacations' is not defined"
     ]
    }
   ],
   "source": [
    "#Prompting user for input\n",
    "print('Enter in information for five vacations')\n",
    "\n",
    "vacation = []\n",
    "for i in range(5):\n",
    "    print(f'Enter information for vacation #{i+1}:')\n",
    "    print('Enter name:')\n",
    "    name = input()\n",
    "    print(f'Enter email:')\n",
    "    email = input()\n",
    "    print(f'Enter phone number:')\n",
    "    number = input()\n",
    "    print(f'Enter budget:')\n",
    "    budget = int(input())\n",
    "    \n",
    "    #Adding vacations to a list\n",
    "    vacation.append(Vacations(name, email, number, budget))\n",
    "\n"
   ]
  },
  {
   "cell_type": "markdown",
   "metadata": {},
   "source": [
    "## Question 3\n",
    "Print a report that lists all the vacation trips entered with a summary for each."
   ]
  },
  {
   "cell_type": "code",
   "execution_count": null,
   "metadata": {},
   "outputs": [],
   "source": [
    "#Defining summary method\n",
    "def summary(self):\n",
    "    print(f'Summary of your vacation:')\n",
    "    print(f'Name: {self.name}')\n",
    "    print(f'Email: {self.email}')\n",
    "    print(f'Phone Number: {self.number}')\n",
    "    print(f'Budget: {self.budget}')\n"
   ]
  },
  {
   "cell_type": "markdown",
   "metadata": {},
   "source": [
    "## Vacation Trips Management Application V2.0\n",
    "\n",
    "After using the application for some time, the company realized they need to track two types of vacations, Domestic and International. For Domestic vacations, the application should track city and state where the vacation is taking place. For International vacations, the application should keep track of the country where the vacation is taking place. "
   ]
  },
  {
   "cell_type": "markdown",
   "metadata": {},
   "source": [
    "## Question 4\n",
    "Create DomesticVacation Class [Hint: Inehrit from Vacation Class]\n"
   ]
  },
  {
   "cell_type": "code",
   "execution_count": null,
   "metadata": {},
   "outputs": [],
   "source": [
    "#Creating DomesticVacation class\n",
    "class Domestic_Vacation(Vacation):\n",
    "    def __init__(self, name, email, phone, budget, city, state):\n",
    "        super().__init__(name, email, phone, budget)\n",
    "        self.city = city\n",
    "        self.state = state"
   ]
  },
  {
   "cell_type": "markdown",
   "metadata": {},
   "source": [
    "## Question 5\n",
    "Create InternationalVacation Class [Hint: Inehrit from Vacation Class]\n"
   ]
  },
  {
   "cell_type": "code",
   "execution_count": null,
   "metadata": {},
   "outputs": [],
   "source": [
    "#Creating InternationalVacation class\n",
    "class International_Vacation(Vacation):\n",
    "    def __init__(name, email, phone, budget, country):\n",
    "        super().__init__(name, email, phone, budget)\n",
    "        self.country = country"
   ]
  },
  {
   "cell_type": "markdown",
   "metadata": {},
   "source": [
    "## Question 6\n",
    "Prompt the application user to provide information for up to 5 vacations. The user has to specify wither the vacation entered is domestic or international. Use the DomesticVacation and InternationalVacation classes to instantiate objects for each of the vacations entered by the user. "
   ]
  },
  {
   "cell_type": "code",
   "execution_count": 2,
   "metadata": {},
   "outputs": [
    {
     "name": "stdout",
     "output_type": "stream",
     "text": [
      "Enter in information for five vacations\n",
      "Enter information for vacation #1:\n",
      "Enter 1 for domestic vacations and 2 for international:\n",
      "1\n",
      " Enter name:\n",
      "kayleigh\n",
      " Enter email:\n",
      "kayleigh@batchos.me\n",
      "Enter phone number:\n",
      "2693822834\n",
      "Enter budget:\n",
      "200\n",
      "Enter city:\n",
      "kalamazoo\n",
      "Enter state:\n",
      "michigan\n"
     ]
    },
    {
     "ename": "NameError",
     "evalue": "name 'Domestic_Vacation' is not defined",
     "output_type": "error",
     "traceback": [
      "\u001b[1;31m---------------------------------------------------------------------------\u001b[0m",
      "\u001b[1;31mNameError\u001b[0m                                 Traceback (most recent call last)",
      "Input \u001b[1;32mIn [2]\u001b[0m, in \u001b[0;36m<cell line: 6>\u001b[1;34m()\u001b[0m\n\u001b[0;32m     26\u001b[0m     state \u001b[38;5;241m=\u001b[39m \u001b[38;5;28minput\u001b[39m()\n\u001b[0;32m     28\u001b[0m     tracker\u001b[38;5;241m.\u001b[39mappend(temp)\n\u001b[1;32m---> 29\u001b[0m     vacations\u001b[38;5;241m.\u001b[39mappend(\u001b[43mDomestic_Vacation\u001b[49m(name, email, number, budget, city, state))\n\u001b[0;32m     30\u001b[0m \u001b[38;5;28;01melif\u001b[39;00m(temp \u001b[38;5;241m==\u001b[39m \u001b[38;5;241m2\u001b[39m):\n\u001b[0;32m     31\u001b[0m     \u001b[38;5;28mprint\u001b[39m(\u001b[38;5;124mf\u001b[39m\u001b[38;5;124m'\u001b[39m\u001b[38;5;124m Enter name:\u001b[39m\u001b[38;5;124m'\u001b[39m)\n",
      "\u001b[1;31mNameError\u001b[0m: name 'Domestic_Vacation' is not defined"
     ]
    }
   ],
   "source": [
    "#Prompting user for input\n",
    "print('Enter in information for five vacations')\n",
    "\n",
    "vacations = []\n",
    "tracker = []\n",
    "for i in range(5):\n",
    "    print(f'Enter information for vacation #{i+1}:')\\\n",
    "    \n",
    "    #Asking if vacation is domestic or international\n",
    "    print('Enter 1 for domestic vacations and 2 for international:')\n",
    "    temp = int(input())\n",
    "    \n",
    "    #Checking for domestic or international\n",
    "    if(temp == 1):\n",
    "        print(f' Enter name:')\n",
    "        name = input()\n",
    "        print(f' Enter email:')\n",
    "        email = input()\n",
    "        print(f'Enter phone number:')\n",
    "        number = input()\n",
    "        print(f'Enter budget:')\n",
    "        budget = int(input())\n",
    "        print(f'Enter city:')\n",
    "        city = input()\n",
    "        print(f'Enter state:')\n",
    "        state = input()\n",
    "\n",
    "        tracker.append(temp)\n",
    "        vacations.append(Domestic_Vacation(name, email, number, budget, city, state))\n",
    "    elif(temp == 2):\n",
    "        print(f' Enter name:')\n",
    "        name = input()\n",
    "        print(f' Enter email:')\n",
    "        email = input()\n",
    "        print(f'Enter phone number:')\n",
    "        number = input()\n",
    "        print(f'Enter budget:')\n",
    "        budget = int(input())\n",
    "        print(f'Enter country:')\n",
    "        country = input()\n",
    "\n",
    "        tracker.append(temp)\n",
    "        vacations.append(International_Vacation(name, email, number, budget, country))\n",
    "\n"
   ]
  },
  {
   "cell_type": "code",
   "execution_count": null,
   "metadata": {},
   "outputs": [],
   "source": []
  },
  {
   "cell_type": "markdown",
   "metadata": {},
   "source": [
    "## Question 7\n",
    "Print a report that lists all the vacation trips entered showing the vacation type and a summary for each vacation. Each Vacation summary  should include city and state for domestic vacations and country for international vacations. "
   ]
  },
  {
   "cell_type": "code",
   "execution_count": null,
   "metadata": {},
   "outputs": [],
   "source": [
    "#Listing vacations with summary\n",
    "for i in range(5):\n",
    "    if(tracker[i] == 1):\n",
    "        print('Domestic Vacation:')\n",
    "        vacations[i].summary()\n",
    "        print(f'City: {vacations[i].city}')\n",
    "        print(f'State: {vacations[i].state}')\n",
    "    elif(tracker[i] == 2):\n",
    "        print('International Vacation:')\n",
    "        vacations[i].summary()\n",
    "        print(f'Country: {vacations[i].country}')"
   ]
  },
  {
   "cell_type": "markdown",
   "metadata": {},
   "source": [
    "## Question 8\n",
    "Print a report that shows total customer budget for all vacations entered in Question 6"
   ]
  },
  {
   "cell_type": "code",
   "execution_count": null,
   "metadata": {},
   "outputs": [],
   "source": [
    "#Printing total budget\n",
    "for i in range(5):\n",
    "    total_budget += vacations[i].budget\n",
    "print(f'Total budget: {total_budget}')"
   ]
  },
  {
   "cell_type": "markdown",
   "metadata": {},
   "source": [
    "## Question 9\n",
    "- This question dorsn't require writing code\n",
    "- Draw a Use Case Diagram to capture the application actor/s and use cases.\n",
    "- Refer to the instructions above and add your drawing to Assignment_5__Drawings_FirstName_LastName.pdf "
   ]
  },
  {
   "cell_type": "markdown",
   "metadata": {},
   "source": [
    "## Question 10\n",
    "- This question dorsn't require writing code\n",
    "- Draw a Class Diagram that represents the classes used to create the application and the relationship between them.\n",
    "- Refer to the instructions above and add your drawing to Assignment_5__Drawings_FirstName_LastName.pdf "
   ]
  }
 ],
 "metadata": {
  "kernelspec": {
   "display_name": "Python 3 (ipykernel)",
   "language": "python",
   "name": "python3"
  },
  "language_info": {
   "codemirror_mode": {
    "name": "ipython",
    "version": 3
   },
   "file_extension": ".py",
   "mimetype": "text/x-python",
   "name": "python",
   "nbconvert_exporter": "python",
   "pygments_lexer": "ipython3",
   "version": "3.9.12"
  }
 },
 "nbformat": 4,
 "nbformat_minor": 4
}
