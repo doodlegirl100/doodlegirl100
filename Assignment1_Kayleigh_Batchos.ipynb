{
 "cells": [
  {
   "cell_type": "markdown",
   "metadata": {},
   "source": [
    "# Assignment 1\n",
    "- Assignment should be submitted as jupyter notebook, no other formats accepted\n",
    "- Your notebook file name should follow this format: Assignment_1_FirstName_LastName.ipynb\n",
    "- For each of the questions below, write your code in the cell below the question\n",
    "- Your code should run and generate expected outcome to receive full grade\n",
    "- Save your  notebook with your code included and upload to blackboard by the due date/time\n",
    "- Late submissions are not accepted\n",
    "- You can submit to blackboard multiple times, the last submission will be graded"
   ]
  },
  {
   "cell_type": "markdown",
   "metadata": {},
   "source": [
    "## Question 1:\n",
    "Write a Python program which accepts the length l and the width w of a rectangle  from the user then prints the area of the rectangle"
   ]
  },
  {
   "cell_type": "code",
   "execution_count": 7,
   "metadata": {},
   "outputs": [
    {
     "name": "stdout",
     "output_type": "stream",
     "text": [
      "1\n",
      "2\n",
      "2\n"
     ]
    }
   ],
   "source": [
    "#Write your code here\n",
    "l = int(input())\n",
    "w = int(input())\n",
    "print(l*w)"
   ]
  },
  {
   "cell_type": "markdown",
   "metadata": {},
   "source": [
    "## Question 2:\n",
    "Write a Python program which askes for user first name and last name then prints them in reverse order with a comma between them \n"
   ]
  },
  {
   "cell_type": "code",
   "execution_count": 1,
   "metadata": {},
   "outputs": [
    {
     "name": "stdout",
     "output_type": "stream",
     "text": [
      "What is your first name?\n",
      "Kayleigh\n",
      "What is your last name?\n",
      "Batchos\n",
      "Batchos , Kayleigh\n"
     ]
    }
   ],
   "source": [
    "#Write your code here\n",
    "first_name = input('What is your first name?\\n')\n",
    "last_name = input('What is your last name?\\n')\n",
    "print(last_name, \",\", first_name)"
   ]
  },
  {
   "cell_type": "markdown",
   "metadata": {},
   "source": [
    "## Question 3:\n",
    "Given the temperature t (in Fahrenheit) and the wind speed v (in miles per hour), the National Weather Service defines the effective temperature to be:\n",
    ">w = 35.74 + 0.6215 t + (0.4275 t - 35.75) * v^0.16\n",
    "\n",
    "Compose a program that takes two floats t and v  from the command-line and prints the wind chill value w \n"
   ]
  },
  {
   "cell_type": "code",
   "execution_count": 5,
   "metadata": {},
   "outputs": [
    {
     "name": "stdout",
     "output_type": "stream",
     "text": [
      "1\n",
      "1\n",
      "1.0390000000000015\n"
     ]
    }
   ],
   "source": [
    "#Write your code here\n",
    "t = int(input())\n",
    "v = int(input())\n",
    "w = 35.74 + 0.6215*t + (0.4275*t - 35.75) * v**0.16\n",
    "print(w)"
   ]
  },
  {
   "cell_type": "markdown",
   "metadata": {},
   "source": [
    "## Question 4: \n",
    "Write a Python program that accepts 4 numbers from the user, stores them in a list, and then prints the numbers stored in the list comma separated\n"
   ]
  },
  {
   "cell_type": "code",
   "execution_count": 6,
   "metadata": {},
   "outputs": [
    {
     "name": "stdout",
     "output_type": "stream",
     "text": [
      "1\n",
      "2\n",
      "3\n",
      "4\n",
      "1,2,3,4\n"
     ]
    }
   ],
   "source": [
    "#Write your code here\n",
    "num1 = int(input())\n",
    "num2 = int(input())\n",
    "num3 = int(input())\n",
    "num4 = int(input())\n",
    "\n",
    "list = [num1, num2, num3, num4]\n",
    "print(*list, sep = ',')"
   ]
  },
  {
   "cell_type": "markdown",
   "metadata": {},
   "source": [
    "## Question 5:\n",
    "Write a Python script to retrieve current date from computer system and prints it in the following formats\n",
    "> a)\tdd/mm/yyy\\\n",
    "> b)\tyyyy-mm-dd\n"
   ]
  },
  {
   "cell_type": "code",
   "execution_count": 9,
   "metadata": {
    "scrolled": true
   },
   "outputs": [
    {
     "name": "stdout",
     "output_type": "stream",
     "text": [
      "25/09/2022\n",
      "2022/09/25\n"
     ]
    }
   ],
   "source": [
    "#Write your code here\n",
    "from datetime import date\n",
    "today = date.today()\n",
    "\n",
    "d1 = today.strftime(\"%d/%m/%Y\")\n",
    "print(d1)\n",
    "\n",
    "d2 = today.strftime(\"%Y/%m/%d\")\n",
    "print(d2)"
   ]
  },
  {
   "cell_type": "markdown",
   "metadata": {},
   "source": []
  }
 ],
 "metadata": {
  "kernelspec": {
   "display_name": "Python 3 (ipykernel)",
   "language": "python",
   "name": "python3"
  },
  "language_info": {
   "codemirror_mode": {
    "name": "ipython",
    "version": 3
   },
   "file_extension": ".py",
   "mimetype": "text/x-python",
   "name": "python",
   "nbconvert_exporter": "python",
   "pygments_lexer": "ipython3",
   "version": "3.9.12"
  }
 },
 "nbformat": 4,
 "nbformat_minor": 4
}
